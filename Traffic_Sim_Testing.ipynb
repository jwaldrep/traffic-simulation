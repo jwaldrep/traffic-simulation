{
 "cells": [
  {
   "cell_type": "code",
   "execution_count": 1,
   "metadata": {
    "collapsed": true
   },
   "outputs": [],
   "source": [
    "from car import Car\n",
    "from road import Road\n",
    "from simulation import Simulation\n",
    "import numpy as np\n",
    "from unittest import mock\n",
    "import matplotlib.pyplot as plt\n",
    "\n",
    "def setup():\n",
    "    road = Road()\n",
    "    car1 = Car(road, position=100, init_speed = 36, accel_rate=0)\n",
    "    car2 = Car(road, position=200, init_speed = 36, accel_rate=0)\n",
    "    cars = [car2, car1]  # reverse order for easier checking\n",
    "    sim = Simulation(cars=cars)\n",
    "    return sim\n"
   ]
  },
  {
   "cell_type": "code",
   "execution_count": 2,
   "metadata": {
    "collapsed": true
   },
   "outputs": [],
   "source": [
    "%matplotlib inline"
   ]
  },
  {
   "cell_type": "code",
   "execution_count": 3,
   "metadata": {
    "collapsed": false
   },
   "outputs": [
    {
     "name": "stdout",
     "output_type": "stream",
     "text": [
      "step_positions: : [200, 100]\n",
      "id#1 next bumper: 95, buffer_zone: 59, potential_position: 210.0, current speed: 36\n",
      "id:1 x:210.0 s:36\n",
      "id#0 next bumper: 205.0, buffer_zone: 169.0, potential_position: 110.0, current speed: 36\n",
      "id:0 x:110.0 s:36\n",
      "step_positions: : [210.0, 110.0]\n",
      "n: 0 steps: 3\n",
      "id#1 next bumper: 105.0, buffer_zone: 69.0, potential_position: 220.0, current speed: 36\n",
      "id:1 x:220.0 s:36\n",
      "id#0 next bumper: 215.0, buffer_zone: 179.0, potential_position: 120.0, current speed: 36\n",
      "id:0 x:120.0 s:36\n",
      "step_positions: : [220.0, 120.0]\n",
      "run step_positions:  [220.0, 120.0]\n",
      "[[ 200.  100.]\n",
      " [ 210.  110.]\n",
      " [ 220.  120.]]\n",
      "n: 1 steps: 3\n",
      "id#1 next bumper: 115.0, buffer_zone: 79.0, potential_position: 230.0, current speed: 36\n",
      "id:1 x:230.0 s:36\n",
      "id#0 next bumper: 225.0, buffer_zone: 189.0, potential_position: 130.0, current speed: 36\n",
      "id:0 x:130.0 s:36\n",
      "step_positions: : [230.0, 130.0]\n",
      "run step_positions:  [230.0, 130.0]\n",
      "[[ 200.  100.]\n",
      " [ 210.  110.]\n",
      " [ 220.  120.]\n",
      " [ 230.  130.]]\n"
     ]
    },
    {
     "data": {
      "image/png": "[encoded data removed]",
      "text/plain": [
       "<matplotlib.figure.Figure at 0x1093d54e0>"
      ]
     },
     "metadata": {},
     "output_type": "display_data"
    }
   ],
   "source": [
    "sim = setup()\n",
    "sim.steps = 3\n",
    "# start: np.array([[100., 200.]]))\n",
    "with mock.patch(\"random.random\", return_value=1):\n",
    "    first_step = sim.start()\n",
    "    # first_step = sim.step()\n",
    "#        assert sim.step_positions == [210, 110]\n",
    "    # print('first_step', first_step)\n",
    "    # print('np_position_array:', np.array([first_step]))\n",
    "    # assert np.array_equal(np.array([first_step]), np.array([[210., 110.]]))\n",
    "    sim.run()\n",
    "    # assert sim.step_positions == [230, 130]\n",
    "    # assert np.array_equal(sim.position_array,\n",
    "#                           np.array([[200., 100.],\n",
    "#                                     [210., 110.],\n",
    "#                                     [220., 120.],\n",
    "#                                     [230., 130.]\n",
    "#                                     ]))\n",
    "x1 = [\"2014 Q1\", \"2014 Q2\", \"2014 Q3\", \"2014 Q4\", \"2015 Q1\"]\n",
    "y1 = [400, 700, 1200, 2000, 2300]\n",
    "plt.scatter(range(5), y1)\n",
    "plt.xticks(range(5), x1)\n",
    "plt.xlabel(\"quarter\")\n",
    "plt.ylabel(\"dollar bills\")\n",
    "plt.title(\"Sales\")\n",
    "plt.show()\n"
   ]
  },
  {
   "cell_type": "code",
   "execution_count": null,
   "metadata": {
    "collapsed": true
   },
   "outputs": [],
   "source": []
  },
  {
   "cell_type": "code",
   "execution_count": null,
   "metadata": {
    "collapsed": true
   },
   "outputs": [],
   "source": []
  }
 ],
 "metadata": {
  "kernelspec": {
   "display_name": "Python 3",
   "language": "python",
   "name": "python3"
  },
  "language_info": {
   "codemirror_mode": {
    "name": "ipython",
    "version": 3
   },
   "file_extension": ".py",
   "mimetype": "text/x-python",
   "name": "python",
   "nbconvert_exporter": "python",
   "pygments_lexer": "ipython3",
   "version": "3.4.3"
  }
 },
 "nbformat": 4,
 "nbformat_minor": 0
}
