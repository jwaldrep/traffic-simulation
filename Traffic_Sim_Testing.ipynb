{
 "cells": [
  {
   "cell_type": "code",
   "execution_count": 1,
   "metadata": {
    "collapsed": true
   },
   "outputs": [],
   "source": [
    "from car import Car\n",
    "from road import Road\n",
    "from simulation import Simulation\n",
    "import numpy as np\n",
    "from unittest import mock\n",
    "import matplotlib.pyplot as plt\n",
    "\n",
    "def setup():\n",
    "    road = Road()\n",
    "    car1 = Car(road, position=100, init_speed = 36, accel_rate=0)\n",
    "    car2 = Car(road, position=200, init_speed = 36, accel_rate=0)\n",
    "    cars = [car2, car1]  # reverse order for easier checking\n",
    "    sim = Simulation(cars=cars)\n",
    "    return sim\n"
   ]
  },
  {
   "cell_type": "code",
   "execution_count": 2,
   "metadata": {
    "collapsed": true
   },
   "outputs": [],
   "source": [
    "%matplotlib inline"
   ]
  },
  {
   "cell_type": "code",
   "execution_count": 3,
   "metadata": {
    "collapsed": false
   },
   "outputs": [
    {
     "name": "stdout",
     "output_type": "stream",
     "text": [
      "id#1 next bumper: 95, buffer_zone: 59, potential_position: 210.0, current speed: 36\n",
      "id#0 next bumper: 205.0, buffer_zone: 169.0, potential_position: 110.0, current speed: 36\n",
      "id#1 next bumper: 105.0, buffer_zone: 69.0, potential_position: 220.0, current speed: 36\n",
      "id#0 next bumper: 215.0, buffer_zone: 179.0, potential_position: 120.0, current speed: 36\n",
      "id#1 next bumper: 115.0, buffer_zone: 79.0, potential_position: 230.0, current speed: 36\n",
      "id#0 next bumper: 225.0, buffer_zone: 189.0, potential_position: 130.0, current speed: 36\n"
     ]
    },
    {
     "data": {
      "image/png": "[encoded data removed]",
      "text/plain": [
       "<matplotlib.figure.Figure at 0x110195630>"
      ]
     },
     "metadata": {},
     "output_type": "display_data"
    },
    {
     "data": {
      "text/plain": [
       "array([[ 200.,  100.],\n",
       "       [ 210.,  110.],\n",
       "       [ 220.,  120.],\n",
       "       [ 230.,  130.]])"
      ]
     },
     "execution_count": 3,
     "metadata": {},
     "output_type": "execute_result"
    }
   ],
   "source": [
    "sim = setup()\n",
    "sim.steps = 3\n",
    "# start: np.array([[100., 200.]]))\n",
    "with mock.patch(\"random.random\", return_value=1):\n",
    "    first_step = sim.start()\n",
    "    # first_step = sim.step()\n",
    "#        assert sim.step_positions == [210, 110]\n",
    "    # print('first_step', first_step)\n",
    "    # print('np_position_array:', np.array([first_step]))\n",
    "    # assert np.array_equal(np.array([first_step]), np.array([[210., 110.]]))\n",
    "    positions = sim.run()\n",
    "    # assert sim.step_positions == [230, 130]\n",
    "    # assert np.array_equal(sim.position_array,\n",
    "#                           np.array([[200., 100.],\n",
    "#                                     [210., 110.],\n",
    "#                                     [220., 120.],\n",
    "#                                     [230., 130.]\n",
    "#                                     ]))\n",
    "x1 = [\"2014 Q1\", \"2014 Q2\", \"2014 Q3\", \"2014 Q4\", \"2015 Q1\"]\n",
    "y1 = [400, 700, 1200, 2000, 2300]\n",
    "plt.scatter(range(5), y1)\n",
    "plt.xticks(range(5), x1)\n",
    "plt.xlabel(\"quarter\")\n",
    "plt.ylabel(\"dollars\")\n",
    "plt.title(\"Sales\")\n",
    "plt.show()\n",
    "positions"
   ]
  },
  {
   "cell_type": "code",
   "execution_count": 4,
   "metadata": {
    "collapsed": false
   },
   "outputs": [
    {
     "data": {
      "text/plain": [
       "<matplotlib.collections.PathCollection at 0x1103a6b70>"
      ]
     },
     "execution_count": 4,
     "metadata": {},
     "output_type": "execute_result"
    },
    {
     "data": {
      "image/png": "[encoded data removed]",
      "text/plain": [
       "<matplotlib.figure.Figure at 0x110184a58>"
      ]
     },
     "metadata": {},
     "output_type": "display_data"
    }
   ],
   "source": [
    "plt.scatter(range(len(positions)), positions[:,0])\n",
    "plt.scatter(range(len(positions)), positions[:,1])"
   ]
  },
  {
   "cell_type": "code",
   "execution_count": null,
   "metadata": {
    "collapsed": true
   },
   "outputs": [],
   "source": []
  },
  {
   "cell_type": "code",
   "execution_count": 14,
   "metadata": {
    "collapsed": false
   },
   "outputs": [
    {
     "name": "stdout",
     "output_type": "stream",
     "text": [
      "id#11 next bumper: 5, buffer_zone: 45, potential_position: 31.944444444444443, current speed: 43\n",
      "id#10 next bumper: 27.5, buffer_zone: 67.5, potential_position: 26.666666666666668, current speed: 60\n",
      "id#11 next bumper: 22.22222222222222, buffer_zone: 77.22222222222223, potential_position: 45.0, current speed: 45\n",
      "id#10 next bumper: 40.55555555555556, buffer_zone: 78.55555555555556, potential_position: 44.44444444444444, current speed: 62\n",
      "id#10 Stopping\n",
      "id#11 next bumper: 22.22222222222222, buffer_zone: 75.22222222222223, potential_position: 58.611111111111114, current speed: 47\n",
      "id#11 Slowing\n",
      "id#10 next bumper: 53.05555555555556, buffer_zone: 53.05555555555556, potential_position: 27.22222222222222, current speed: 0\n",
      "id#11 next bumper: 22.77777777777778, buffer_zone: 77.77777777777777, potential_position: 70.55555555555556, current speed: 45\n",
      "id#11 Slowing\n",
      "id#10 next bumper: 65.0, buffer_zone: 63.0, potential_position: 28.333333333333336, current speed: 2\n",
      "id#11 next bumper: 23.88888888888889, buffer_zone: 80.88888888888889, potential_position: 81.94444444444444, current speed: 43\n",
      "id#10 next bumper: 77.5, buffer_zone: 73.5, potential_position: 30.0, current speed: 4\n",
      "id#11 next bumper: 25.555555555555557, buffer_zone: 80.55555555555556, potential_position: 95.0, current speed: 45\n",
      "id#10 next bumper: 90.55555555555556, buffer_zone: 84.55555555555556, potential_position: 32.22222222222222, current speed: 6\n",
      "id#11 next bumper: 27.77777777777778, buffer_zone: 80.77777777777777, potential_position: 8.611111111111114, current speed: 47\n",
      "id#10 next bumper: 4.166666666666671, buffer_zone: 96.16666666666667, potential_position: 35.0, current speed: 8\n",
      "id#11 next bumper: 30.555555555555557, buffer_zone: 81.55555555555556, potential_position: 22.777777777777786, current speed: 49\n",
      "id#10 next bumper: 18.33333333333334, buffer_zone: 8.33333333333334, potential_position: 37.31481481481482, current speed: 6.333333333333339\n",
      "id#11 next bumper: 32.870370370370374, buffer_zone: 81.87037037037038, potential_position: 37.50000000000001, current speed: 51\n",
      "id#11 Stopping\n",
      "id#10 next bumper: 18.33333333333334, buffer_zone: 10.0, potential_position: 40.18518518518519, current speed: 8.33333333333334\n",
      "id#11 next bumper: 35.74074074074075, buffer_zone: 35.74074074074075, potential_position: 23.33333333333334, current speed: 0\n",
      "id#10 next bumper: 18.888888888888896, buffer_zone: 8.555555555555557, potential_position: 42.561728395061735, current speed: 6.555555555555557\n",
      "id#11 next bumper: 38.11728395061729, buffer_zone: 36.11728395061729, potential_position: 24.444444444444454, current speed: 2\n",
      "id#10 next bumper: 20.000000000000007, buffer_zone: 11.44444444444445, potential_position: 45.49382716049384, current speed: 8.555555555555557\n",
      "id#11 next bumper: 41.049382716049394, buffer_zone: 37.049382716049394, potential_position: 26.111111111111118, current speed: 4\n",
      "id#10 next bumper: 21.666666666666675, buffer_zone: 11.111111111111118, potential_position: 48.981481481481495, current speed: 10.555555555555557\n",
      "id#11 next bumper: 44.537037037037045, buffer_zone: 38.537037037037045, potential_position: 28.333333333333343, current speed: 6\n",
      "id#10 next bumper: 23.888888888888896, buffer_zone: 11.33333333333334, potential_position: 52.12962962962964, current speed: 9.33333333333334\n",
      "id#11 next bumper: 47.6851851851852, buffer_zone: 39.6851851851852, potential_position: 31.111111111111118, current speed: 8\n",
      "id#10 next bumper: 26.666666666666675, buffer_zone: 15.333333333333336, potential_position: 55.83333333333335, current speed: 11.33333333333334\n",
      "id#11 next bumper: 51.3888888888889, buffer_zone: 41.3888888888889, potential_position: 34.44444444444445, current speed: 10\n",
      "id#10 next bumper: 30.000000000000007, buffer_zone: 16.666666666666668, potential_position: 60.0925925925926, current speed: 13.33333333333334\n",
      "id#10 Slowing\n",
      "id#11 next bumper: 54.53703703703705, buffer_zone: 42.53703703703705, potential_position: 38.33333333333334, current speed: 12\n",
      "id#10 next bumper: 33.8888888888889, buffer_zone: 22.55555555555556, potential_position: 62.685185185185205, current speed: 11.33333333333334\n",
      "id#11 next bumper: 58.240740740740755, buffer_zone: 44.240740740740755, potential_position: 42.777777777777786, current speed: 14\n",
      "id#10 next bumper: 38.33333333333334, buffer_zone: 25.000000000000004, potential_position: 66.94444444444446, current speed: 13.33333333333334\n",
      "id#11 next bumper: 62.500000000000014, buffer_zone: 46.500000000000014, potential_position: 47.777777777777786, current speed: 16\n",
      "id#10 next bumper: 42.5925925925926, buffer_zone: 27.259259259259263, potential_position: 71.75925925925928, current speed: 15.33333333333334\n",
      "id#11 next bumper: 67.31481481481484, buffer_zone: 51.981481481481495, potential_position: 51.85185185185186, current speed: 15.33333333333334\n",
      "id#10 next bumper: 47.40740740740742, buffer_zone: 30.07407407407408, potential_position: 77.12962962962965, current speed: 17.33333333333334\n",
      "id#11 next bumper: 72.6851851851852, buffer_zone: 55.35185185185186, potential_position: 57.222222222222236, current speed: 17.33333333333334\n",
      "id#10 next bumper: 52.222222222222236, buffer_zone: 32.8888888888889, potential_position: 83.05555555555557, current speed: 19.33333333333334\n",
      "id#11 next bumper: 78.61111111111113, buffer_zone: 61.277777777777786, potential_position: 62.03703703703705, current speed: 17.33333333333334\n",
      "id#10 next bumper: 57.03703703703705, buffer_zone: 35.70370370370371, potential_position: 89.53703703703705, current speed: 21.33333333333334\n",
      "id#11 next bumper: 85.09259259259261, buffer_zone: 67.75925925925927, potential_position: 66.85185185185188, current speed: 17.33333333333334\n",
      "id#10 next bumper: 62.40740740740742, buffer_zone: 39.074074074074076, potential_position: 96.57407407407409, current speed: 23.33333333333334\n",
      "id#11 next bumper: 92.12962962962965, buffer_zone: 72.7962962962963, potential_position: 72.77777777777779, current speed: 19.33333333333334\n",
      "id#10 next bumper: 68.33333333333334, buffer_zone: 43.0, potential_position: 4.166666666666686, current speed: 25.33333333333334\n",
      "id#11 next bumper: 99.72222222222224, buffer_zone: 78.3888888888889, potential_position: 79.25925925925927, current speed: 21.33333333333334\n",
      "id#10 next bumper: 74.81481481481482, buffer_zone: 47.48148148148148, potential_position: 12.314814814814838, current speed: 27.33333333333334\n",
      "id#11 next bumper: 7.870370370370393, buffer_zone: 84.53703703703705, potential_position: 86.2962962962963, current speed: 23.33333333333334\n",
      "id#10 next bumper: 81.85185185185186, buffer_zone: 52.51851851851852, potential_position: 21.018518518518544, current speed: 29.33333333333334\n",
      "id#11 next bumper: 16.574074074074097, buffer_zone: 91.24074074074076, potential_position: 93.8888888888889, current speed: 25.33333333333334\n",
      "id#10 next bumper: 89.44444444444446, buffer_zone: 58.111111111111114, potential_position: 30.277777777777803, current speed: 31.33333333333334\n",
      "id#11 next bumper: 25.83333333333336, buffer_zone: 98.50000000000003, potential_position: 2.0370370370370523, current speed: 27.33333333333334\n",
      "id#10 next bumper: 97.59259259259261, buffer_zone: 64.25925925925927, potential_position: 40.092592592592624, current speed: 33.33333333333334\n",
      "id#11 next bumper: 35.64814814814818, buffer_zone: 6.3148148148148415, potential_position: 3.79115226337451, current speed: 4.3148148148148415\n",
      "id#10 next bumper: 99.34670781893007, buffer_zone: 64.01337448559673, potential_position: 50.462962962963, current speed: 35.33333333333334\n",
      "id#11 next bumper: 46.018518518518555, buffer_zone: 39.70370370370371, potential_position: 6.100823045267521, current speed: 6.3148148148148415\n",
      "id#10 next bumper: 1.6563786008230768, buffer_zone: 64.32304526748973, potential_position: 61.38888888888893, current speed: 37.33333333333334\n",
      "id#11 next bumper: 56.944444444444485, buffer_zone: 48.62962962962965, potential_position: 8.966049382716088, current speed: 8.314814814814842\n",
      "id#10 next bumper: 4.5216049382716434, buffer_zone: 65.18827160493831, potential_position: 72.87037037037041, current speed: 39.33333333333334\n",
      "id#11 next bumper: 68.42592592592597, buffer_zone: 58.11111111111113, potential_position: 12.38683127572021, current speed: 10.314814814814842\n",
      "id#10 next bumper: 7.9423868312757655, buffer_zone: 66.60905349794243, potential_position: 84.90740740740745, current speed: 41.33333333333334\n",
      "id#11 next bumper: 80.462962962963, buffer_zone: 68.14814814814817, potential_position: 16.363168724279888, current speed: 12.314814814814842\n",
      "id#10 next bumper: 11.918724279835445, buffer_zone: 68.5853909465021, potential_position: 97.50000000000004, current speed: 43.33333333333334\n",
      "id#10 Slowing\n",
      "id#11 next bumper: 91.94444444444449, buffer_zone: 77.62962962962965, potential_position: 20.895061728395124, current speed: 14.314814814814842\n",
      "id#10 next bumper: 16.450617283950677, buffer_zone: 75.11728395061733, potential_position: 8.425925925925966, current speed: 41.33333333333334\n",
      "id#10 Slowing\n",
      "id#11 next bumper: 2.8703703703704093, buffer_zone: 86.55555555555557, potential_position: 25.98251028806591, current speed: 16.31481481481484\n",
      "id#10 next bumper: 21.538065843621467, buffer_zone: 82.20473251028812, potential_position: 18.79629629629634, current speed: 39.33333333333334\n",
      "id#11 next bumper: 14.351851851851894, buffer_zone: 96.03703703703705, potential_position: 31.625514403292257, current speed: 18.31481481481484\n",
      "id#10 next bumper: 27.181069958847814, buffer_zone: 85.84773662551447, potential_position: 30.83333333333338, current speed: 41.33333333333334\n",
      "id#10 Stopping\n",
      "id#11 next bumper: 14.351851851851894, buffer_zone: 94.03703703703705, potential_position: 37.82407407407416, current speed: 20.31481481481484\n",
      "id#10 next bumper: 33.37962962962972, buffer_zone: 33.37962962962972, potential_position: 19.351851851851894, current speed: 0\n",
      "id#11 next bumper: 14.907407407407451, buffer_zone: 92.59259259259261, potential_position: 44.57818930041162, current speed: 22.31481481481484\n",
      "id#10 next bumper: 40.13374485596717, buffer_zone: 38.13374485596717, potential_position: 20.462962962963008, current speed: 2\n",
      "id#11 next bumper: 16.01851851851856, buffer_zone: 91.70370370370372, potential_position: 51.88786008230463, current speed: 24.31481481481484\n",
      "id#11 Slowing\n",
      "id#10 next bumper: 46.33230452674907, buffer_zone: 42.33230452674907, potential_position: 22.129629629629672, current speed: 4\n",
      "id#11 next bumper: 17.68518518518523, buffer_zone: 95.37037037037038, potential_position: 57.530864197530974, current speed: 22.31481481481484\n",
      "id#10 next bumper: 53.086419753086524, buffer_zone: 47.086419753086524, potential_position: 24.351851851851897, current speed: 6\n",
      "id#10 Slowing\n",
      "id#11 next bumper: 18.79629629629634, buffer_zone: 94.4814814814815, potential_position: 64.84053497942398, current speed: 24.31481481481484\n",
      "id#10 next bumper: 60.396090534979535, buffer_zone: 56.396090534979535, potential_position: 24.90740740740745, current speed: 4\n",
      "id#11 next bumper: 20.462962962963008, buffer_zone: 94.14814814814817, potential_position: 72.70576131687255, current speed: 26.31481481481484\n",
      "id#10 next bumper: 68.2613168724281, buffer_zone: 62.2613168724281, potential_position: 27.129629629629676, current speed: 6\n",
      "id#11 next bumper: 22.68518518518523, buffer_zone: 94.37037037037038, potential_position: 81.12654320987666, current speed: 28.31481481481484\n",
      "id#11 Slowing\n",
      "id#10 next bumper: 75.57098765432112, buffer_zone: 67.57098765432112, potential_position: 29.90740740740745, current speed: 8\n",
      "id#11 next bumper: 25.462962962963008, buffer_zone: 99.14814814814817, potential_position: 87.88065843621413, current speed: 26.31481481481484\n",
      "id#11 Slowing\n",
      "id#10 next bumper: 82.32510288065858, buffer_zone: 72.32510288065858, potential_position: 33.24074074074078, current speed: 10\n",
      "id#11 next bumper: 28.79629629629634, buffer_zone: 4.481481481481499, potential_position: 88.01440329218121, current speed: 2.4814814814814987\n",
      "id#10 next bumper: 83.56995884773677, buffer_zone: 71.56995884773677, potential_position: 37.129629629629676, current speed: 12\n",
      "id#11 next bumper: 32.68518518518523, buffer_zone: 28.203703703703734, potential_position: 89.81481481481497, current speed: 4.481481481481499\n",
      "id#10 next bumper: 85.37037037037052, buffer_zone: 71.37037037037052, potential_position: 41.57407407407412, current speed: 14\n",
      "id#11 next bumper: 37.129629629629676, buffer_zone: 30.648148148148177, potential_position: 92.17078189300427, current speed: 6.481481481481499\n",
      "id#10 next bumper: 87.72633744855983, buffer_zone: 71.72633744855983, potential_position: 46.57407407407412, current speed: 16\n",
      "id#11 next bumper: 42.129629629629676, buffer_zone: 33.64814814814818, potential_position: 95.08230452674914, current speed: 8.481481481481499\n",
      "id#10 next bumper: 90.6378600823047, buffer_zone: 72.6378600823047, potential_position: 52.129629629629676, current speed: 18\n",
      "id#11 next bumper: 47.68518518518523, buffer_zone: 37.20370370370374, potential_position: 98.54938271604956, current speed: 10.481481481481499\n",
      "id#10 next bumper: 94.10493827160512, buffer_zone: 74.10493827160512, potential_position: 58.24074074074079, current speed: 20\n",
      "id#11 next bumper: 53.79629629629635, buffer_zone: 41.31481481481485, potential_position: 2.5720164609055445, current speed: 12.481481481481499\n",
      "id#10 next bumper: 98.12757201646109, buffer_zone: 76.12757201646109, potential_position: 64.90740740740746, current speed: 22\n",
      "id#11 next bumper: 60.46296296296302, buffer_zone: 45.981481481481524, potential_position: 7.15020576131706, current speed: 14.481481481481499\n",
      "id#10 next bumper: 2.705761316872615, buffer_zone: 78.70576131687261, potential_position: 72.12962962962969, current speed: 24\n",
      "id#11 next bumper: 67.68518518518525, buffer_zone: 51.20370370370375, potential_position: 12.283950617284143, current speed: 16.4814814814815\n",
      "id#10 next bumper: 7.839506172839698, buffer_zone: 81.83950617283969, potential_position: 79.90740740740748, current speed: 26\n",
      "id#11 next bumper: 75.46296296296302, buffer_zone: 56.981481481481524, potential_position: 17.973251028806782, current speed: 18.4814814814815\n",
      "id#10 next bumper: 13.528806584362336, buffer_zone: 85.52880658436234, potential_position: 88.24074074074079, current speed: 28\n",
      "id#11 next bumper: 83.79629629629635, buffer_zone: 63.31481481481485, potential_position: 24.218106995884973, current speed: 20.4814814814815\n",
      "id#10 next bumper: 19.77366255144053, buffer_zone: 89.77366255144054, potential_position: 97.12962962962968, current speed: 30\n",
      "id#11 next bumper: 92.68518518518523, buffer_zone: 70.20370370370374, potential_position: 31.018518518518725, current speed: 22.4814814814815\n",
      "id#10 next bumper: 26.574074074074282, buffer_zone: 94.57407407407428, potential_position: 6.574074074074119, current speed: 32\n",
      "id#11 next bumper: 2.129629629629676, buffer_zone: 77.64814814814818, potential_position: 38.374485596708034, current speed: 24.4814814814815\n",
      "id#10 next bumper: 33.930041152263584, buffer_zone: 99.93004115226358, potential_position: 16.57407407407412, current speed: 34\n",
      "id#10 Slowing\n",
      "id#11 next bumper: 11.018518518518565, buffer_zone: 84.53703703703707, potential_position: 46.28600823045289, current speed: 26.4814814814815\n",
      "id#10 next bumper: 41.84156378600844, buffer_zone: 9.841563786008443, potential_position: 18.19673068129869, current speed: 7.841563786008443\n",
      "id#11 next bumper: 13.196730681298689, buffer_zone: 84.7152491998172, potential_position: 54.7530864197533, current speed: 28.4814814814815\n",
      "id#10 next bumper: 50.30864197530886, buffer_zone: 42.467078189300416, potential_position: 20.374942844078813, current speed: 7.841563786008443\n",
      "id#11 next bumper: 15.930498399634367, buffer_zone: 85.44901691815286, potential_position: 63.775720164609275, current speed: 30.4814814814815\n",
      "id#10 next bumper: 59.331275720164825, buffer_zone: 49.48971193415638, potential_position: 23.664266117970044, current speed: 9.841563786008443\n",
      "id#11 next bumper: 19.2198216735256, buffer_zone: 86.7383401920441, potential_position: 73.35390946502079, current speed: 32.481481481481495\n",
      "id#11 Slowing\n",
      "id#10 next bumper: 67.79835390946525, buffer_zone: 55.956790123456805, potential_position: 27.509144947416836, current speed: 11.841563786008443\n",
      "id#11 next bumper: 23.064700502972393, buffer_zone: 92.58321902149089, potential_position: 81.26543209876567, current speed: 30.481481481481495\n",
      "id#11 Slowing\n",
      "id#10 next bumper: 75.70987654321011, buffer_zone: 61.86831275720167, potential_position: 31.909579332419185, current speed: 13.841563786008443\n",
      "id#10 Slowing\n",
      "id#11 next bumper: 26.354023776863627, buffer_zone: 97.87254229538213, potential_position: 88.62139917695498, current speed: 28.481481481481495\n",
      "id#10 next bumper: 84.17695473251052, buffer_zone: 72.33539094650209, potential_position: 34.64334705075486, current speed: 11.841563786008443\n",
      "id#11 next bumper: 30.19890260631042, buffer_zone: 99.71742112482892, potential_position: 97.64403292181095, current speed: 30.481481481481495\n",
      "id#10 next bumper: 93.19958847736649, buffer_zone: 79.35802469135805, potential_position: 39.04378143575721, current speed: 13.841563786008443\n",
      "id#10 Slowing\n",
      "id#11 next bumper: 33.488225880201654, buffer_zone: 1.0067443987201585, potential_position: 97.92368414367765, current speed: -0.9932556012798415\n",
      "id#10 next bumper: 93.4792396992332, buffer_zone: 81.63767591322477, potential_position: 41.77754915409289, current speed: 11.841563786008443\n",
      "id#10 Slowing\n",
      "id#11 next bumper: 36.22199359853733, buffer_zone: 35.21524919981717, potential_position: 98.75889092109992, current speed: 1.0067443987201585\n",
      "id#10 next bumper: 94.31444647665548, buffer_zone: 84.47288269064703, potential_position: 43.95576131687301, current speed: 9.841563786008443\n",
      "id#11 next bumper: 39.511316872428566, buffer_zone: 36.50457247370841, potential_position: 0.149653254077748, current speed: 3.0067443987201585\n",
      "id#10 next bumper: 95.70520880963329, buffer_zone: 83.86364502362485, potential_position: 47.8006401463198, current speed: 11.841563786008443\n",
      "id#10 Slowing\n",
      "id#11 next bumper: 42.24508459076424, buffer_zone: 37.238340192044085, potential_position: 2.0959711426111127, current speed: 5.0067443987201585\n",
      "id#10 next bumper: 97.65152669816666, buffer_zone: 87.80996291215823, potential_position: 49.97885230909992, current speed: 9.841563786008443\n",
      "id#11 next bumper: 45.53440786465548, buffer_zone: 38.52766346593532, potential_position: 4.597844586700045, current speed: 7.0067443987201585\n",
      "id#10 next bumper: 0.1534001422556006, buffer_zone: 88.31183635624716, potential_position: 53.82373113854671, current speed: 11.841563786008443\n",
      "id#11 next bumper: 49.37928669410227, buffer_zone: 40.37254229538211, potential_position: 7.655273586344533, current speed: 9.006744398720159\n",
      "id#10 next bumper: 3.2108291419000885, buffer_zone: 89.36926535589164, potential_position: 58.22416552354906, current speed: 13.841563786008443\n",
      "id#11 next bumper: 53.77972107910462, buffer_zone: 42.77297668038446, potential_position: 11.268258141544578, current speed: 11.006744398720159\n",
      "id#10 next bumper: 6.823813697100132, buffer_zone: 90.98224991109169, potential_position: 63.18015546410696, current speed: 15.841563786008443\n",
      "id#11 next bumper: 58.73571101966252, buffer_zone: 45.72896662094236, potential_position: 15.436798252300175, current speed: 13.006744398720159\n",
      "id#10 next bumper: 10.992353807855732, buffer_zone: 93.15079002184729, potential_position: 68.69170096022042, current speed: 17.841563786008443\n",
      "id#11 next bumper: 64.24725651577597, buffer_zone: 49.240512117055815, potential_position: 20.160893918611333, current speed: 15.006744398720159\n",
      "id#10 next bumper: 15.716449474166886, buffer_zone: 95.87488568815844, potential_position: 74.75880201188943, current speed: 19.841563786008443\n",
      "id#11 next bumper: 70.31435756744499, buffer_zone: 53.30761316872483, potential_position: 25.440545140478044, current speed: 17.00674439872016\n",
      "id#10 next bumper: 20.996100696033597, buffer_zone: 99.15453691002516, potential_position: 81.381458619114, current speed: 21.841563786008443\n",
      "id#11 next bumper: 76.93701417466956, buffer_zone: 57.9302697759494, potential_position: 31.27575191790031, current speed: 19.00674439872016\n",
      "id#11 Slowing\n",
      "id#10 next bumper: 25.72019636234475, buffer_zone: 1.878632576336308, potential_position: 81.90330100142964, current speed: -0.12136742366369191\n",
      "id#11 next bumper: 77.4588565569852, buffer_zone: 60.45211215826504, potential_position: 35.44429202865591, current speed: 17.00674439872016\n",
      "id#10 next bumper: 30.999847584211466, buffer_zone: 29.121215007875158, potential_position: 82.98069893930084, current speed: 1.878632576336308\n",
      "id#11 next bumper: 78.5362544948564, buffer_zone: 59.529510096136235, potential_position: 41.27949880607818, current speed: 19.00674439872016\n",
      "id#10 next bumper: 36.83505436163373, buffer_zone: 32.95642178529742, potential_position: 84.61365243272759, current speed: 3.878632576336308\n",
      "id#11 next bumper: 80.16920798828315, buffer_zone: 59.16246358956299, potential_position: 47.670261139055995, current speed: 21.00674439872016\n",
      "id#10 next bumper: 43.22581669461155, buffer_zone: 37.347184118275244, potential_position: 86.8021614817099, current speed: 5.878632576336308\n",
      "id#10 Slowing\n",
      "id#11 next bumper: 81.24660592615434, buffer_zone: 58.239861527434186, potential_position: 54.616579027589374, current speed: 23.00674439872016\n",
      "id#10 next bumper: 50.17213458314493, buffer_zone: 46.29350200680862, potential_position: 87.32400386402554, current speed: 3.878632576336308\n",
      "id#11 next bumper: 82.8795594195811, buffer_zone: 57.87281502086094, potential_position: 62.11845247167831, current speed: 25.00674439872016\n",
      "id#10 next bumper: 51.805088076571685, buffer_zone: 45.92645550023538, potential_position: 89.51251291300785, current speed: 5.878632576336308\n",
      "id#11 next bumper: 85.06806846856341, buffer_zone: 79.1894358922271, potential_position: 58.43804156999844, current speed: 5.878632576336308\n",
      "id#11 Slowing\n",
      "id#10 next bumper: 52.88248601444288, buffer_zone: 45.003853438106574, potential_position: 92.25657751754572, current speed: 7.878632576336308\n",
      "id#11 next bumper: 87.81213307310128, buffer_zone: 83.93350049676496, potential_position: 58.95988395231408, current speed: 3.878632576336308\n",
      "id#10 next bumper: 54.51543950786964, buffer_zone: 44.63680693153333, potential_position: 95.55619767763915, current speed: 9.878632576336308\n",
      "id#11 next bumper: 91.1117532331947, buffer_zone: 85.2331206568584, potential_position: 61.14839300129639, current speed: 5.878632576336308\n",
      "id#10 next bumper: 56.70394855685194, buffer_zone: 44.82531598051563, potential_position: 99.41137339328813, current speed: 11.878632576336308\n",
      "id#11 next bumper: 94.96692894884367, buffer_zone: 87.08829637250736, potential_position: 63.89245760583425, current speed: 7.878632576336308\n",
      "id#10 next bumper: 59.44801316138981, buffer_zone: 45.5693805850535, potential_position: 3.8221046644926417, current speed: 13.878632576336308\n",
      "id#11 next bumper: 99.3776602200482, buffer_zone: 89.49902764371188, potential_position: 67.19207776592768, current speed: 9.878632576336308\n",
      "id#10 next bumper: 62.747633321483235, buffer_zone: 46.86900074514693, potential_position: 8.788391491252728, current speed: 15.878632576336308\n",
      "id#11 next bumper: 4.343947046808285, buffer_zone: 92.46531447047198, potential_position: 71.04725348157666, current speed: 11.878632576336308\n",
      "id#10 next bumper: 66.6028090371322, buffer_zone: 48.724176460795896, potential_position: 14.310233873568372, current speed: 17.878632576336308\n",
      "id#11 next bumper: 9.865789429123927, buffer_zone: 95.98715685278762, potential_position: 75.45798475278117, current speed: 13.878632576336308\n",
      "id#10 next bumper: 71.01354030833673, buffer_zone: 51.13490773200042, potential_position: 20.38763181143957, current speed: 19.878632576336308\n",
      "id#11 next bumper: 15.943187366995126, buffer_zone: 0.06455479065881775, potential_position: 75.4759166390753, current speed: -1.9354452093411822\n",
      "id#10 next bumper: 71.03147219463085, buffer_zone: 49.15283961829454, potential_position: 27.020585304866323, current speed: 21.878632576336308\n",
      "id#11 next bumper: 22.57614086042188, buffer_zone: 22.511586069763062, potential_position: 76.04940408092497, current speed: 0.06455479065881775\n",
      "id#10 next bumper: 71.60495963648052, buffer_zone: 47.72632706014421, potential_position: 34.209094353848634, current speed: 23.878632576336308\n",
      "id#11 next bumper: 29.764649909404184, buffer_zone: 27.700095118745367, potential_position: 77.17844707833018, current speed: 2.0645547906588178\n",
      "id#11 Slowing\n",
      "id#10 next bumper: 71.62289152277464, buffer_zone: 45.74425894643833, potential_position: 41.953158958386496, current speed: 25.878632576336308\n",
      "id#11 next bumper: 37.508714513942046, buffer_zone: 37.44415972328323, potential_position: 76.64082340906876, current speed: 0.06455479065881775\n",
      "id#10 next bumper: 72.1963789646243, buffer_zone: 44.31774638828799, potential_position: 50.25277911847991, current speed: 27.878632576336308\n",
      "id#11 next bumper: 38.08220195579172, buffer_zone: 36.0176471651329, potential_position: 77.76986640647397, current speed: 2.0645547906588178\n",
      "id#11 Slowing\n",
      "id#10 next bumper: 72.21431085091842, buffer_zone: 70.1497560602596, potential_position: 43.65568939764139, current speed: 2.0645547906588178\n",
      "id#11 next bumper: 39.211244953196946, buffer_zone: 39.14669016253813, potential_position: 77.23224273721254, current speed: 0.06455479065881775\n",
      "id#10 next bumper: 72.78779829276809, buffer_zone: 68.72324350210927, potential_position: 45.340287950602175, current speed: 4.064554790658818\n",
      "id#11 next bumper: 40.89584350615773, buffer_zone: 38.831288715498914, potential_position: 78.36128573461775, current speed: 2.0645547906588178\n",
      "id#10 next bumper: 73.91684129017331, buffer_zone: 67.85228649951449, potential_position: 47.58044205911852, current speed: 6.064554790658818\n",
      "id#11 next bumper: 43.13599761467407, buffer_zone: 39.07144282401525, potential_position: 80.04588428757853, current speed: 4.064554790658818\n",
      "id#10 next bumper: 75.60143984313409, buffer_zone: 67.53688505247527, potential_position: 50.376151723190404, current speed: 8.064554790658818\n",
      "id#11 next bumper: 45.93170727874596, buffer_zone: 39.86715248808714, potential_position: 82.28603839609487, current speed: 6.064554790658818\n",
      "id#10 next bumper: 77.84159395165042, buffer_zone: 67.7770391609916, potential_position: 53.727416942817854, current speed: 10.064554790658818\n",
      "id#10 Slowing\n",
      "id#11 next bumper: 48.1718613872623, buffer_zone: 40.10730659660348, potential_position: 85.08174806016676, current speed: 8.064554790658818\n",
      "id#10 next bumper: 80.63730361572232, buffer_zone: 72.5727488250635, potential_position: 55.41201549577863, current speed: 8.064554790658818\n",
      "id#11 next bumper: 50.96757105133419, buffer_zone: 40.90301626067537, potential_position: 88.43301327979421, current speed: 10.064554790658818\n",
      "id#10 next bumper: 83.98856883534977, buffer_zone: 73.92401404469095, potential_position: 58.76328071540608, current speed: 10.064554790658818\n",
      "id#11 next bumper: 54.31883627096164, buffer_zone: 42.25428148030282, potential_position: 92.33983405497722, current speed: 12.064554790658818\n",
      "id#10 next bumper: 87.89538961053277, buffer_zone: 75.83083481987396, potential_position: 62.67010149058909, current speed: 12.064554790658818\n",
      "id#11 next bumper: 58.22565704614465, buffer_zone: 44.16110225548583, potential_position: 96.80221038571578, current speed: 14.064554790658818\n",
      "id#10 next bumper: 92.35776594127134, buffer_zone: 78.29321115061252, potential_position: 67.13247782132765, current speed: 14.064554790658818\n",
      "id#11 next bumper: 62.68803337688321, buffer_zone: 46.623478586224394, potential_position: 1.8201422720099032, current speed: 16.064554790658818\n",
      "id#11 Slowing\n",
      "id#10 next bumper: 96.26458671645435, buffer_zone: 80.20003192579553, potential_position: 72.15040970762178, current speed: 16.064554790658818\n",
      "id#11 next bumper: 67.70596526317733, buffer_zone: 53.641410472518515, potential_position: 5.171407491637352, current speed: 14.064554790658818\n",
      "id#10 next bumper: 0.7269630471929069, buffer_zone: 82.66240825653409, potential_position: 77.72389714947145, current speed: 18.064554790658818\n"
     ]
    }
   ],
   "source": [
    "road = Road(length=100)\n",
    "car1 = Car(road, position=10)\n",
    "car2 = Car(road, position=20)\n",
    "cars = [car2, car1]  # reverse order for easier checking\n",
    "sim = Simulation(cars=cars, steps=100)\n",
    "\n",
    "sim.start()\n",
    "positions = sim.run()\n",
    "\n"
   ]
  },
  {
   "cell_type": "code",
   "execution_count": 15,
   "metadata": {
    "collapsed": false
   },
   "outputs": [
    {
     "data": {
      "image/png": "[encoded data removed]",
      "text/plain": [
       "<matplotlib.figure.Figure at 0x1110130b8>"
      ]
     },
     "metadata": {},
     "output_type": "display_data"
    }
   ],
   "source": [
    "#for i in range(len(cars)):\n",
    "plt.scatter(range(len(positions)), positions[:,0])\n",
    "plt.scatter(range(len(positions)), positions[:,1], c='g')\n",
    "plt.subplots_adjust(left=2, right=4)"
   ]
  },
  {
   "cell_type": "code",
   "execution_count": null,
   "metadata": {
    "collapsed": true
   },
   "outputs": [],
   "source": []
  },
  {
   "cell_type": "code",
   "execution_count": null,
   "metadata": {
    "collapsed": true
   },
   "outputs": [],
   "source": []
  }
 ],
 "metadata": {
  "kernelspec": {
   "display_name": "Python 3",
   "language": "python",
   "name": "python3"
  },
  "language_info": {
   "codemirror_mode": {
    "name": "ipython",
    "version": 3
   },
   "file_extension": ".py",
   "mimetype": "text/x-python",
   "name": "python",
   "nbconvert_exporter": "python",
   "pygments_lexer": "ipython3",
   "version": "3.4.3"
  }
 },
 "nbformat": 4,
 "nbformat_minor": 0
}
